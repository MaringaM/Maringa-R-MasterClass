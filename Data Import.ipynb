{
 "cells": [
  {
   "cell_type": "code",
   "execution_count": 1,
   "metadata": {},
   "outputs": [
    {
     "name": "stderr",
     "output_type": "stream",
     "text": [
      "-- \u001b[1mAttaching packages\u001b[22m --------------------------------------- tidyverse 1.2.1 --\n",
      "\u001b[32mv\u001b[39m \u001b[34mggplot2\u001b[39m 3.2.1     \u001b[32mv\u001b[39m \u001b[34mpurrr  \u001b[39m 0.3.3\n",
      "\u001b[32mv\u001b[39m \u001b[34mtibble \u001b[39m 2.1.3     \u001b[32mv\u001b[39m \u001b[34mdplyr  \u001b[39m 0.8.3\n",
      "\u001b[32mv\u001b[39m \u001b[34mtidyr  \u001b[39m 1.0.0     \u001b[32mv\u001b[39m \u001b[34mstringr\u001b[39m 1.4.0\n",
      "\u001b[32mv\u001b[39m \u001b[34mreadr  \u001b[39m 1.3.1     \u001b[32mv\u001b[39m \u001b[34mforcats\u001b[39m 0.4.0\n",
      "-- \u001b[1mConflicts\u001b[22m ------------------------------------------ tidyverse_conflicts() --\n",
      "\u001b[31mx\u001b[39m \u001b[34mdplyr\u001b[39m::\u001b[32mfilter()\u001b[39m masks \u001b[34mstats\u001b[39m::filter()\n",
      "\u001b[31mx\u001b[39m \u001b[34mdplyr\u001b[39m::\u001b[32mlag()\u001b[39m    masks \u001b[34mstats\u001b[39m::lag()\n"
     ]
    }
   ],
   "source": [
    "library(tidyverse)"
   ]
  },
  {
   "cell_type": "markdown",
   "metadata": {},
   "source": [
    "# GETTING STARTED"
   ]
  },
  {
   "cell_type": "markdown",
   "metadata": {},
   "source": [
    "What function would you use to read a file where fields were separated with\n",
    "“|”?\n",
    "###### Use the `read_delim()` function with the argument `delim=\"|\"`."
   ]
  },
  {
   "cell_type": "code",
   "execution_count": 2,
   "metadata": {},
   "outputs": [
    {
     "data": {
      "text/html": [
       "<table>\n",
       "<caption>A spec_tbl_df: 2 × 3</caption>\n",
       "<thead>\n",
       "\t<tr><th scope=col>a</th><th scope=col>b</th><th scope=col>c</th></tr>\n",
       "\t<tr><th scope=col>&lt;dbl&gt;</th><th scope=col>&lt;dbl&gt;</th><th scope=col>&lt;dbl&gt;</th></tr>\n",
       "</thead>\n",
       "<tbody>\n",
       "\t<tr><td>1</td><td>2</td><td>3</td></tr>\n",
       "\t<tr><td>4</td><td>5</td><td>6</td></tr>\n",
       "</tbody>\n",
       "</table>\n"
      ],
      "text/latex": [
       "A spec_tbl_df: 2 × 3\n",
       "\\begin{tabular}{r|lll}\n",
       " a & b & c\\\\\n",
       " <dbl> & <dbl> & <dbl>\\\\\n",
       "\\hline\n",
       "\t 1 & 2 & 3\\\\\n",
       "\t 4 & 5 & 6\\\\\n",
       "\\end{tabular}\n"
      ],
      "text/markdown": [
       "\n",
       "A spec_tbl_df: 2 × 3\n",
       "\n",
       "| a &lt;dbl&gt; | b &lt;dbl&gt; | c &lt;dbl&gt; |\n",
       "|---|---|---|\n",
       "| 1 | 2 | 3 |\n",
       "| 4 | 5 | 6 |\n",
       "\n"
      ],
      "text/plain": [
       "  a b c\n",
       "1 1 2 3\n",
       "2 4 5 6"
      ]
     },
     "metadata": {},
     "output_type": "display_data"
    }
   ],
   "source": [
    "read_delim(\"a|b|c\\n1|2|3\\n4|5|6\", delim = \"|\")"
   ]
  },
  {
   "cell_type": "markdown",
   "metadata": {},
   "source": [
    "Apart from file, skip, and comment, what other arguments do read_csv() and read_tsv() have in common?\n",
    "\n",
    "###### help(read_csv)\n",
    "read_csv(file, col_names = TRUE, col_types = NULL,\n",
    "  locale = default_locale(), na = c(\"\", \"NA\"), quoted_na = TRUE,\n",
    "  quote = \"\\\"\", comment = \"\", trim_ws = TRUE, skip = 0,\n",
    "  n_max = Inf, guess_max = min(1000, n_max),\n",
    "  progress = show_progress(), skip_empty_rows = TRUE)\n",
    "###### help(read_tsv)\n",
    "read_tsv(file, col_names = TRUE, col_types = NULL,\n",
    "  locale = default_locale(), na = c(\"\", \"NA\"), quoted_na = TRUE,\n",
    "  quote = \"\\\"\", comment = \"\", trim_ws = TRUE, skip = 0,\n",
    "  n_max = Inf, guess_max = min(1000, n_max),\n",
    "  progress = show_progress(), skip_empty_rows = TRUE)\n",
    "\n",
    "###### They both have the same arguments only that read_csv is comma delimited while read_tsv is tab delimited\n"
   ]
  },
  {
   "cell_type": "code",
   "execution_count": 6,
   "metadata": {},
   "outputs": [],
   "source": [
    "# What are the most important arguments to read_fwf()? \n",
    "# The most important argument is col_positions, which defines the column positions.\n",
    "help(read_fwf)"
   ]
  },
  {
   "cell_type": "markdown",
   "metadata": {},
   "source": [
    "Sometimes strings in a CSV file contain commas. To prevent them from causing problems they need to be surrounded by a quoting character, like \" or '. By convention, read_csv() assumes that the quoting character will be \", and if you want to change it you’ll need to use read_delim() instead. What arguments do you need to specify to read the following text into a data frame?\n",
    "\"x,y\\n1,'a,b'\""
   ]
  },
  {
   "cell_type": "code",
   "execution_count": 7,
   "metadata": {},
   "outputs": [
    {
     "data": {
      "text/html": [
       "<table>\n",
       "<caption>A spec_tbl_df: 1 × 2</caption>\n",
       "<thead>\n",
       "\t<tr><th scope=col>x</th><th scope=col>y</th></tr>\n",
       "\t<tr><th scope=col>&lt;dbl&gt;</th><th scope=col>&lt;chr&gt;</th></tr>\n",
       "</thead>\n",
       "<tbody>\n",
       "\t<tr><td>1</td><td>a,b</td></tr>\n",
       "</tbody>\n",
       "</table>\n"
      ],
      "text/latex": [
       "A spec_tbl_df: 1 × 2\n",
       "\\begin{tabular}{r|ll}\n",
       " x & y\\\\\n",
       " <dbl> & <chr>\\\\\n",
       "\\hline\n",
       "\t 1 & a,b\\\\\n",
       "\\end{tabular}\n"
      ],
      "text/markdown": [
       "\n",
       "A spec_tbl_df: 1 × 2\n",
       "\n",
       "| x &lt;dbl&gt; | y &lt;chr&gt; |\n",
       "|---|---|\n",
       "| 1 | a,b |\n",
       "\n"
      ],
      "text/plain": [
       "  x y  \n",
       "1 1 a,b"
      ]
     },
     "metadata": {},
     "output_type": "display_data"
    }
   ],
   "source": [
    "#The argument is quote, and we can use it in read_csv(), read_csv2(), and read_tsv() as well. For example:\n",
    "\n",
    "read_csv(\"x,y\\n1,'a,b'\", quote = \"'\")"
   ]
  },
  {
   "cell_type": "markdown",
   "metadata": {},
   "source": [
    "Identify what is wrong with each of the following inline CSV files. What happens when you run the code?"
   ]
  },
  {
   "cell_type": "code",
   "execution_count": 9,
   "metadata": {},
   "outputs": [
    {
     "name": "stderr",
     "output_type": "stream",
     "text": [
      "Warning message:\n",
      "\"2 parsing failures.\n",
      "row col  expected    actual         file\n",
      "  1  -- 2 columns 3 columns literal data\n",
      "  2  -- 2 columns 3 columns literal data\n",
      "\""
     ]
    },
    {
     "data": {
      "text/html": [
       "<table>\n",
       "<caption>A spec_tbl_df: 2 × 2</caption>\n",
       "<thead>\n",
       "\t<tr><th scope=col>a</th><th scope=col>b</th></tr>\n",
       "\t<tr><th scope=col>&lt;dbl&gt;</th><th scope=col>&lt;dbl&gt;</th></tr>\n",
       "</thead>\n",
       "<tbody>\n",
       "\t<tr><td>1</td><td>2</td></tr>\n",
       "\t<tr><td>4</td><td>5</td></tr>\n",
       "</tbody>\n",
       "</table>\n"
      ],
      "text/latex": [
       "A spec_tbl_df: 2 × 2\n",
       "\\begin{tabular}{r|ll}\n",
       " a & b\\\\\n",
       " <dbl> & <dbl>\\\\\n",
       "\\hline\n",
       "\t 1 & 2\\\\\n",
       "\t 4 & 5\\\\\n",
       "\\end{tabular}\n"
      ],
      "text/markdown": [
       "\n",
       "A spec_tbl_df: 2 × 2\n",
       "\n",
       "| a &lt;dbl&gt; | b &lt;dbl&gt; |\n",
       "|---|---|\n",
       "| 1 | 2 |\n",
       "| 4 | 5 |\n",
       "\n"
      ],
      "text/plain": [
       "  a b\n",
       "1 1 2\n",
       "2 4 5"
      ]
     },
     "metadata": {},
     "output_type": "display_data"
    }
   ],
   "source": [
    "read_csv(\"a,b\\n1,2,3\\n4,5,6\")\n",
    "#Only two columns names are provided, so the values in the last column are dropped."
   ]
  },
  {
   "cell_type": "code",
   "execution_count": 10,
   "metadata": {},
   "outputs": [
    {
     "name": "stderr",
     "output_type": "stream",
     "text": [
      "Warning message:\n",
      "\"2 parsing failures.\n",
      "row col  expected    actual         file\n",
      "  1  -- 3 columns 2 columns literal data\n",
      "  2  -- 3 columns 4 columns literal data\n",
      "\""
     ]
    },
    {
     "data": {
      "text/html": [
       "<table>\n",
       "<caption>A spec_tbl_df: 2 × 3</caption>\n",
       "<thead>\n",
       "\t<tr><th scope=col>a</th><th scope=col>b</th><th scope=col>c</th></tr>\n",
       "\t<tr><th scope=col>&lt;dbl&gt;</th><th scope=col>&lt;dbl&gt;</th><th scope=col>&lt;dbl&gt;</th></tr>\n",
       "</thead>\n",
       "<tbody>\n",
       "\t<tr><td>1</td><td>2</td><td>NA</td></tr>\n",
       "\t<tr><td>1</td><td>2</td><td> 3</td></tr>\n",
       "</tbody>\n",
       "</table>\n"
      ],
      "text/latex": [
       "A spec_tbl_df: 2 × 3\n",
       "\\begin{tabular}{r|lll}\n",
       " a & b & c\\\\\n",
       " <dbl> & <dbl> & <dbl>\\\\\n",
       "\\hline\n",
       "\t 1 & 2 & NA\\\\\n",
       "\t 1 & 2 &  3\\\\\n",
       "\\end{tabular}\n"
      ],
      "text/markdown": [
       "\n",
       "A spec_tbl_df: 2 × 3\n",
       "\n",
       "| a &lt;dbl&gt; | b &lt;dbl&gt; | c &lt;dbl&gt; |\n",
       "|---|---|---|\n",
       "| 1 | 2 | NA |\n",
       "| 1 | 2 |  3 |\n",
       "\n"
      ],
      "text/plain": [
       "  a b c \n",
       "1 1 2 NA\n",
       "2 1 2  3"
      ]
     },
     "metadata": {},
     "output_type": "display_data"
    }
   ],
   "source": [
    "read_csv(\"a,b,c\\n1,2\\n1,2,3,4\")\n",
    "#Only three column names are provided. The third column has NA since no value was provided. \n",
    "#The value in the last column in the last row is dropped as the column is not available"
   ]
  },
  {
   "cell_type": "code",
   "execution_count": 11,
   "metadata": {},
   "outputs": [
    {
     "name": "stderr",
     "output_type": "stream",
     "text": [
      "Warning message:\n",
      "\"2 parsing failures.\n",
      "row col                     expected    actual         file\n",
      "  1  a  closing quote at end of file           literal data\n",
      "  1  -- 2 columns                    1 columns literal data\n",
      "\""
     ]
    },
    {
     "data": {
      "text/html": [
       "<table>\n",
       "<caption>A spec_tbl_df: 1 × 2</caption>\n",
       "<thead>\n",
       "\t<tr><th scope=col>a</th><th scope=col>b</th></tr>\n",
       "\t<tr><th scope=col>&lt;dbl&gt;</th><th scope=col>&lt;chr&gt;</th></tr>\n",
       "</thead>\n",
       "<tbody>\n",
       "\t<tr><td>1</td><td>NA</td></tr>\n",
       "</tbody>\n",
       "</table>\n"
      ],
      "text/latex": [
       "A spec_tbl_df: 1 × 2\n",
       "\\begin{tabular}{r|ll}\n",
       " a & b\\\\\n",
       " <dbl> & <chr>\\\\\n",
       "\\hline\n",
       "\t 1 & NA\\\\\n",
       "\\end{tabular}\n"
      ],
      "text/markdown": [
       "\n",
       "A spec_tbl_df: 1 × 2\n",
       "\n",
       "| a &lt;dbl&gt; | b &lt;chr&gt; |\n",
       "|---|---|\n",
       "| 1 | NA |\n",
       "\n"
      ],
      "text/plain": [
       "  a b \n",
       "1 1 NA"
      ]
     },
     "metadata": {},
     "output_type": "display_data"
    }
   ],
   "source": [
    "read_csv(\"a,b\\n\\\"1\")\n",
    "#The open quote \\\" is dropped because there is no paired close quote. \n",
    "#There is only one value in the second row, so NA is coerced in the second column."
   ]
  },
  {
   "cell_type": "code",
   "execution_count": 13,
   "metadata": {},
   "outputs": [
    {
     "data": {
      "text/html": [
       "<table>\n",
       "<caption>A spec_tbl_df: 2 × 2</caption>\n",
       "<thead>\n",
       "\t<tr><th scope=col>a</th><th scope=col>b</th></tr>\n",
       "\t<tr><th scope=col>&lt;chr&gt;</th><th scope=col>&lt;chr&gt;</th></tr>\n",
       "</thead>\n",
       "<tbody>\n",
       "\t<tr><td>1</td><td>2</td></tr>\n",
       "\t<tr><td>a</td><td>b</td></tr>\n",
       "</tbody>\n",
       "</table>\n"
      ],
      "text/latex": [
       "A spec_tbl_df: 2 × 2\n",
       "\\begin{tabular}{r|ll}\n",
       " a & b\\\\\n",
       " <chr> & <chr>\\\\\n",
       "\\hline\n",
       "\t 1 & 2\\\\\n",
       "\t a & b\\\\\n",
       "\\end{tabular}\n"
      ],
      "text/markdown": [
       "\n",
       "A spec_tbl_df: 2 × 2\n",
       "\n",
       "| a &lt;chr&gt; | b &lt;chr&gt; |\n",
       "|---|---|\n",
       "| 1 | 2 |\n",
       "| a | b |\n",
       "\n"
      ],
      "text/plain": [
       "  a b\n",
       "1 1 2\n",
       "2 a b"
      ]
     },
     "metadata": {},
     "output_type": "display_data"
    }
   ],
   "source": [
    "read_csv(\"a,b\\n1,2\\na,b\")\n",
    "# Since the second rows are strings, the entire columns are coerced into strings."
   ]
  },
  {
   "cell_type": "code",
   "execution_count": 15,
   "metadata": {},
   "outputs": [
    {
     "data": {
      "text/html": [
       "<table>\n",
       "<caption>A spec_tbl_df: 1 × 1</caption>\n",
       "<thead>\n",
       "\t<tr><th scope=col>a;b</th></tr>\n",
       "\t<tr><th scope=col>&lt;chr&gt;</th></tr>\n",
       "</thead>\n",
       "<tbody>\n",
       "\t<tr><td>1;3</td></tr>\n",
       "</tbody>\n",
       "</table>\n"
      ],
      "text/latex": [
       "A spec_tbl_df: 1 × 1\n",
       "\\begin{tabular}{r|l}\n",
       " a;b\\\\\n",
       " <chr>\\\\\n",
       "\\hline\n",
       "\t 1;3\\\\\n",
       "\\end{tabular}\n"
      ],
      "text/markdown": [
       "\n",
       "A spec_tbl_df: 1 × 1\n",
       "\n",
       "| a;b &lt;chr&gt; |\n",
       "|---|\n",
       "| 1;3 |\n",
       "\n"
      ],
      "text/plain": [
       "  a;b\n",
       "1 1;3"
      ]
     },
     "metadata": {},
     "output_type": "display_data"
    }
   ],
   "source": [
    "read_csv(\"a;b\\n1;3\")\n",
    "#read_csv() looks for commas, not semi-colons. Everything is treated as one column name and one value."
   ]
  },
  {
   "cell_type": "markdown",
   "metadata": {},
   "source": [
    "# PARSING A VECTOR"
   ]
  },
  {
   "cell_type": "code",
   "execution_count": 45,
   "metadata": {},
   "outputs": [],
   "source": [
    "# What are the most important arguments to locale()?\n",
    "# All arguents are important and useful in different situations\n",
    "help(locale)\n",
    "# locale(date_names = \"en\", date_format = \"%AD\", time_format = \"%AT\",\n",
    " # decimal_mark = \".\", grouping_mark = \",\", tz = \"UTC\",\n",
    " # encoding = \"UTF-8\", asciify = FALSE)"
   ]
  },
  {
   "cell_type": "code",
   "execution_count": 24,
   "metadata": {},
   "outputs": [
    {
     "ename": "ERROR",
     "evalue": "Error: `decimal_mark` and `grouping_mark` must be different\n",
     "output_type": "error",
     "traceback": [
      "Error: `decimal_mark` and `grouping_mark` must be different\nTraceback:\n",
      "1. locale(decimal_mark = \",\", grouping_mark = \",\")",
      "2. stop(\"`decimal_mark` and `grouping_mark` must be different\", \n .     call. = FALSE)"
     ]
    }
   ],
   "source": [
    "# What happens if you try and set decimal_mark and grouping_mark to the same character?  \n",
    "locale(decimal_mark = ',', grouping_mark=',')\n",
    "# Explicitly setting decimal_mark and grouping_mark to the same character results in an error"
   ]
  },
  {
   "cell_type": "code",
   "execution_count": 25,
   "metadata": {},
   "outputs": [
    {
     "data": {
      "text/plain": [
       "<locale>\n",
       "Numbers:  123.456,78\n",
       "Formats:  %AD / %AT\n",
       "Timezone: UTC\n",
       "Encoding: UTF-8\n",
       "<date_names>\n",
       "Days:   Sunday (Sun), Monday (Mon), Tuesday (Tue), Wednesday (Wed), Thursday\n",
       "        (Thu), Friday (Fri), Saturday (Sat)\n",
       "Months: January (Jan), February (Feb), March (Mar), April (Apr), May (May),\n",
       "        June (Jun), July (Jul), August (Aug), September (Sep), October\n",
       "        (Oct), November (Nov), December (Dec)\n",
       "AM/PM:  AM/PM"
      ]
     },
     "metadata": {},
     "output_type": "display_data"
    }
   ],
   "source": [
    "# What happens to the default value of grouping_mark when you set decimal_mark to “,”?\n",
    "locale(decimal_mark = ',')\n",
    "#if decimal_mark is set to',' then grouping_mark will be set to '.' automatically. "
   ]
  },
  {
   "cell_type": "code",
   "execution_count": 26,
   "metadata": {},
   "outputs": [
    {
     "data": {
      "text/plain": [
       "<locale>\n",
       "Numbers:  123,456.78\n",
       "Formats:  %AD / %AT\n",
       "Timezone: UTC\n",
       "Encoding: UTF-8\n",
       "<date_names>\n",
       "Days:   Sunday (Sun), Monday (Mon), Tuesday (Tue), Wednesday (Wed), Thursday\n",
       "        (Thu), Friday (Fri), Saturday (Sat)\n",
       "Months: January (Jan), February (Feb), March (Mar), April (Apr), May (May),\n",
       "        June (Jun), July (Jul), August (Aug), September (Sep), October\n",
       "        (Oct), November (Nov), December (Dec)\n",
       "AM/PM:  AM/PM"
      ]
     },
     "metadata": {},
     "output_type": "display_data"
    }
   ],
   "source": [
    "# What happens to the default value of decimal_mark when you set the grouping_mark to “.”?\n",
    "locale(grouping_mark = ',')\n",
    "#if decimal_mark is set to',' then grouping_mark will be set to '.' automatically."
   ]
  },
  {
   "cell_type": "markdown",
   "metadata": {},
   "source": [
    "I didn’t discuss the date_format and time_format options to locale(). What do they do?  _They provide default date and time formats._  \n",
    "Construct an example that shows when they might be useful."
   ]
  },
  {
   "cell_type": "code",
   "execution_count": 58,
   "metadata": {},
   "outputs": [
    {
     "data": {
      "text/html": [
       "<time datetime=\"2015-01-01\">2015-01-01</time>"
      ],
      "text/latex": [
       "2015-01-01"
      ],
      "text/markdown": [
       "2015-01-01"
      ],
      "text/plain": [
       "[1] \"2015-01-01\""
      ]
     },
     "metadata": {},
     "output_type": "display_data"
    },
    {
     "data": {
      "text/html": [
       "<time datetime=\"1979-10-14\">1979-10-14</time>"
      ],
      "text/latex": [
       "1979-10-14"
      ],
      "text/markdown": [
       "1979-10-14"
      ],
      "text/plain": [
       "[1] \"1979-10-14\""
      ]
     },
     "metadata": {},
     "output_type": "display_data"
    },
    {
     "data": {
      "text/html": [
       "<time datetime=\"2015-02-01\">2015-02-01</time>"
      ],
      "text/latex": [
       "2015-02-01"
      ],
      "text/markdown": [
       "2015-02-01"
      ],
      "text/plain": [
       "[1] \"2015-02-01\""
      ]
     },
     "metadata": {},
     "output_type": "display_data"
    }
   ],
   "source": [
    "parse_date(\"1 janvier 2015\", \"%d %B %Y\", locale = locale(\"fr\"))\n",
    "parse_date(\"14 oct.1979\", \"%d %b %Y\", locale = locale(\"fr\"))\n",
    "parse_date(\"01/02/15\", locale = locale(date_format = \"%d/%m/%y\"))"
   ]
  },
  {
   "cell_type": "markdown",
   "metadata": {},
   "source": [
    "If you live outside the US, create a new locale object that encapsulates the settings for the types of file you read most commonly."
   ]
  },
  {
   "cell_type": "code",
   "execution_count": 67,
   "metadata": {},
   "outputs": [
    {
     "name": "stderr",
     "output_type": "stream",
     "text": [
      "Warning message:\n",
      "\"1 parsing failure.\n",
      "row col   expected     actual\n",
      "  1  -- date like  02/01/2007\n",
      "\""
     ]
    },
    {
     "data": {
      "text/html": [
       "<time datetime=\"&lt;NA&gt;\">&lt;NA&gt;</time>"
      ],
      "text/latex": [
       "<NA>"
      ],
      "text/markdown": [
       "&lt;NA&gt;"
      ],
      "text/plain": [
       "[1] NA"
      ]
     },
     "metadata": {},
     "output_type": "display_data"
    },
    {
     "data": {
      "text/html": [
       "<time datetime=\"2006-01-02\">2006-01-02</time>"
      ],
      "text/latex": [
       "2006-01-02"
      ],
      "text/markdown": [
       "2006-01-02"
      ],
      "text/plain": [
       "[1] \"2006-01-02\""
      ]
     },
     "metadata": {},
     "output_type": "display_data"
    }
   ],
   "source": [
    "parse_date(\"02/01/2007\")\n",
    "ken_locale = locale(date_format = \"%d/%m/%Y\")\n",
    "parse_date(\"02/01/200\n",
    "7\", locale = ken_locale)"
   ]
  },
  {
   "cell_type": "markdown",
   "metadata": {},
   "source": [
    "What’s the difference between read_csv() and read_csv2()?\n",
    "###### read_csv()  is comma delimited while read_csv2() is semi-colon delimited"
   ]
  },
  {
   "cell_type": "markdown",
   "metadata": {},
   "source": [
    "Generate the correct format string to parse each of the following dates and times:"
   ]
  },
  {
   "cell_type": "code",
   "execution_count": 68,
   "metadata": {},
   "outputs": [
    {
     "data": {
      "text/html": [
       "<time datetime=\"2010-01-01\">2010-01-01</time>"
      ],
      "text/latex": [
       "2010-01-01"
      ],
      "text/markdown": [
       "2010-01-01"
      ],
      "text/plain": [
       "[1] \"2010-01-01\""
      ]
     },
     "metadata": {},
     "output_type": "display_data"
    }
   ],
   "source": [
    "d1 <- \"January 1, 2010\"\n",
    "\n",
    "parse_date(d1, \"%B %d, %Y\")"
   ]
  },
  {
   "cell_type": "code",
   "execution_count": 69,
   "metadata": {},
   "outputs": [
    {
     "data": {
      "text/html": [
       "<time datetime=\"2015-03-07\">2015-03-07</time>"
      ],
      "text/latex": [
       "2015-03-07"
      ],
      "text/markdown": [
       "2015-03-07"
      ],
      "text/plain": [
       "[1] \"2015-03-07\""
      ]
     },
     "metadata": {},
     "output_type": "display_data"
    }
   ],
   "source": [
    "d2 <- \"2015-Mar-07\"\n",
    "parse_date(d2, \"%Y-%b-%d\")"
   ]
  },
  {
   "cell_type": "code",
   "execution_count": 70,
   "metadata": {},
   "outputs": [
    {
     "data": {
      "text/html": [
       "<time datetime=\"2017-06-06\">2017-06-06</time>"
      ],
      "text/latex": [
       "2017-06-06"
      ],
      "text/markdown": [
       "2017-06-06"
      ],
      "text/plain": [
       "[1] \"2017-06-06\""
      ]
     },
     "metadata": {},
     "output_type": "display_data"
    }
   ],
   "source": [
    "d3 <- \"06-Jun-2017\"\n",
    "parse_date(d3, \"%d-%b-%Y\")"
   ]
  },
  {
   "cell_type": "code",
   "execution_count": 71,
   "metadata": {},
   "outputs": [
    {
     "data": {
      "text/html": [
       "<ol class=list-inline>\n",
       "\t<li><time datetime=\"2015-08-19\">2015-08-19</time></li>\n",
       "\t<li><time datetime=\"2015-07-01\">2015-07-01</time></li>\n",
       "</ol>\n"
      ],
      "text/latex": [
       "\\begin{enumerate*}\n",
       "\\item 2015-08-19\n",
       "\\item 2015-07-01\n",
       "\\end{enumerate*}\n"
      ],
      "text/markdown": [
       "1. 2015-08-19\n",
       "2. 2015-07-01\n",
       "\n",
       "\n"
      ],
      "text/plain": [
       "[1] \"2015-08-19\" \"2015-07-01\""
      ]
     },
     "metadata": {},
     "output_type": "display_data"
    }
   ],
   "source": [
    "d4 <- c(\"August 19 (2015)\", \"July 1 (2015)\")\n",
    "parse_date(d4, \"%B %d (%Y)\")"
   ]
  },
  {
   "cell_type": "code",
   "execution_count": 72,
   "metadata": {},
   "outputs": [
    {
     "data": {
      "text/html": [
       "<time datetime=\"2014-12-30\">2014-12-30</time>"
      ],
      "text/latex": [
       "2014-12-30"
      ],
      "text/markdown": [
       "2014-12-30"
      ],
      "text/plain": [
       "[1] \"2014-12-30\""
      ]
     },
     "metadata": {},
     "output_type": "display_data"
    }
   ],
   "source": [
    "d5 <- \"12/30/14\" # Dec 30, 2014\n",
    "parse_date(d5, \"%m/%d/%y\")"
   ]
  },
  {
   "cell_type": "code",
   "execution_count": 73,
   "metadata": {},
   "outputs": [
    {
     "data": {
      "text/plain": [
       "17:05:00"
      ]
     },
     "metadata": {},
     "output_type": "display_data"
    }
   ],
   "source": [
    "t1 <- \"1705\"\n",
    "parse_time(t1, \"%H%M\")"
   ]
  },
  {
   "cell_type": "code",
   "execution_count": 74,
   "metadata": {},
   "outputs": [
    {
     "data": {
      "text/plain": [
       "23:15:10.12"
      ]
     },
     "metadata": {},
     "output_type": "display_data"
    }
   ],
   "source": [
    "t2 <- \"11:15:10.12 PM\"\n",
    "parse_time(t2, \"%I:%M:%OS %p\")"
   ]
  }
 ],
 "metadata": {
  "kernelspec": {
   "display_name": "R",
   "language": "R",
   "name": "ir"
  },
  "language_info": {
   "codemirror_mode": "r",
   "file_extension": ".r",
   "mimetype": "text/x-r-source",
   "name": "R",
   "pygments_lexer": "r",
   "version": "3.6.1"
  }
 },
 "nbformat": 4,
 "nbformat_minor": 2
}
